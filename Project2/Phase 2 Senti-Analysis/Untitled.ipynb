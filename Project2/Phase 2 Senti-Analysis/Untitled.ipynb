{
  "nbformat": 4,
  "nbformat_minor": 0,
  "metadata": {
    "colab": {
      "name": "Untitled",
      "provenance": [],
      "collapsed_sections": []
    },
    "kernelspec": {
      "name": "python3",
      "display_name": "Python 3"
    },
    "language_info": {
      "name": "python"
    }
  },
  "cells": [
    {
      "cell_type": "code",
      "metadata": {
        "id": "fUVhCTSP1nDW"
      },
      "source": [
        "# ZJZ twitter sentiment analysis"
      ],
      "execution_count": 2,
      "outputs": []
    },
    {
      "cell_type": "code",
      "metadata": {
        "id": "qt2VG_811y47"
      },
      "source": [
        "# import\n",
        "import tweepy\n",
        "from textblob import TextBlob\n",
        "from wordcloud import WordCloud\n",
        "import pandas as pd\n",
        "import numpy as np\n",
        "import re\n",
        "import matplotlib.pyplot as plt\n",
        "plt.style.use('fivethirtyeight')"
      ],
      "execution_count": 3,
      "outputs": []
    },
    {
      "cell_type": "code",
      "metadata": {
        "id": "FU2VQ18b2ecD"
      },
      "source": [
        "accessToken='xxxx'\n",
        "accessTokenSecret='xxxx'\n",
        "consumerKey='xxxx'\n",
        "consumerSecret='xxxx'\n",
        "auth = tweepy.OAuthHandler(consumerKey,consumerSecret)\n",
        "auth.set_access_token(accessToken,accessTokenSecret)\n",
        "api=tweepy.API(auth,wait_on_rate_limit=True)"
      ],
      "execution_count": 4,
      "outputs": []
    },
    {
      "cell_type": "code",
      "metadata": {
        "id": "ELTl_1Zx6xuS"
      },
      "source": [
        "# 提取100条tweets \n",
        "posts = api.user_timeline(screen_name='BillGates',count=100,lang=\"en\",tweet_mode=\"extended\")\n",
        "print(\"show the n recent tweets:\\n\")\n",
        "i = 0\n",
        "for tweet in posts[0:5]:\n",
        "  i+=1\n",
        "  print(str(i)+')'+tweet.full_text+'\\n')"
      ],
      "execution_count": null,
      "outputs": []
    },
    {
      "cell_type": "code",
      "metadata": {
        "id": "gAP7lumVzt4w"
      },
      "source": [
        "df = pd.DataFrame([tweet.full_text for tweet in posts],columns=['Tweets'])\n",
        "df.head()"
      ],
      "execution_count": null,
      "outputs": []
    },
    {
      "cell_type": "code",
      "metadata": {
        "id": "4wK8NVC20-qw"
      },
      "source": [
        "def cleanTxt(text):\n",
        "  text = re.sub(r'@[A-Za-z0-9]+','',text)\n",
        "  text = re.sub(r'#','',text)\n",
        "  text = re.sub(r'RT[\\s]+','',text)\n",
        "  text = re.sub(r'https:\\/\\/S+','',text)\n",
        "  return(text)\n",
        "\n",
        "df['Tweets']=df['Tweets'].apply(cleanTxt)\n",
        "df"
      ],
      "execution_count": null,
      "outputs": []
    },
    {
      "cell_type": "code",
      "metadata": {
        "id": "vrWZU5No3Wo8"
      },
      "source": [
        "def getSubjectivity(text):\n",
        "  return TextBlob(text).sentiment.subjectivity\n",
        "def getPolarity(text):\n",
        "  return TextBlob(text).sentiment.polarity\n",
        "\n",
        "df['Subjectivity']=df['Tweets'].apply(getSubjectivity)\n",
        "df['Polarity']=df['Tweets'].apply(getPolarity)\n",
        "df"
      ],
      "execution_count": null,
      "outputs": []
    },
    {
      "cell_type": "code",
      "metadata": {
        "id": "1SfGWXjO4qUG"
      },
      "source": [
        "# word cloud\n",
        "allWords = ' '.join([twts for twts in df['Tweets']])\n",
        "wordCloud = WordCloud(width = 500,height = 300, random_state=80, max_font_size=100).generate(allWords)\n",
        "plt.imshow(wordCloud,interpolation='bilinear')\n",
        "plt.axis('on')\n",
        "plt.show()"
      ],
      "execution_count": null,
      "outputs": []
    },
    {
      "cell_type": "code",
      "metadata": {
        "id": "ZHp3yWUN5_2v"
      },
      "source": [
        "#NLP part\n",
        "def getAnalysis(score):\n",
        "  if score < 0:\n",
        "    return 'Negative'\n",
        "  elif score==0:\n",
        "    return 'Middle'\n",
        "  else:\n",
        "    return 'Positive'\n",
        "df['Analysis']=df['Polarity'].apply(getAnalysis)\n",
        "df"
      ],
      "execution_count": null,
      "outputs": []
    },
    {
      "cell_type": "code",
      "metadata": {
        "id": "sJQFUU_g6nJG"
      },
      "source": [
        "j=1\n",
        "sortedDF = df.sort_values(by=['Polarity'])\n",
        "for i in range(0,sortedDF.shape[0]):\n",
        "  if(sortedDF['Analysis'][i] == 'Positive'):\n",
        "    print(str(j)+')'+sortedDF['Tweets'][i])\n",
        "    print()\n",
        "    j=j+1"
      ],
      "execution_count": null,
      "outputs": []
    },
    {
      "cell_type": "code",
      "metadata": {
        "id": "G49fiwFTA6bM"
      },
      "source": [
        "plt.figure(figsize=(8,6))\n",
        "for i in range(0,df.shape[0]):\n",
        "  plt.scatter(df['Polarity'][i],df['Subjectivity'][i],color='Blue')\n",
        "plt.xlabel('Polarity')\n",
        "plt.ylabel('Subjectivity')\n",
        "plt.show"
      ],
      "execution_count": null,
      "outputs": []
    }
  ]
}
