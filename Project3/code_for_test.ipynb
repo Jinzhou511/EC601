{
  "nbformat": 4,
  "nbformat_minor": 0,
  "metadata": {
    "colab": {
      "name": "Untitled3.ipynb",
      "provenance": [],
      "collapsed_sections": []
    },
    "kernelspec": {
      "name": "python3",
      "display_name": "Python 3"
    },
    "language_info": {
      "name": "python"
    }
  },
  "cells": [
    {
      "cell_type": "code",
      "metadata": {
        "id": "pqI3ETkm-s9V"
      },
      "source": [
        "# import\n",
        "import tweepy\n",
        "from textblob import TextBlob\n",
        "from wordcloud import WordCloud\n",
        "import pandas as pd\n",
        "import numpy as np\n",
        "import re\n",
        "import matplotlib.pyplot as plt"
      ],
      "execution_count": 42,
      "outputs": []
    },
    {
      "cell_type": "code",
      "metadata": {
        "id": "NGpna9gQ-vZk"
      },
      "source": [
        "accessToken='1393886621729271815-MSUMYiX5E7dOqv688WtlRDL861LVEg'\n",
        "accessTokenSecret='kRPXGNrEecnKUTg1n0Xm4nxFQ22loyuoKkFdbjzSYdskM'\n",
        "consumerKey='JR6B8K1QWpYeMqMKYAiGkIF3l'\n",
        "consumerSecret='A83zp1kFCtrBTNmpwNnxXWRLRTsSshmRkRkl9MV29Bu7DYkBZm'\n",
        "auth = tweepy.OAuthHandler(consumerKey,consumerSecret)\n",
        "auth.set_access_token(accessToken,accessTokenSecret)\n",
        "api=tweepy.API(auth,wait_on_rate_limit=True)"
      ],
      "execution_count": 43,
      "outputs": []
    },
    {
      "cell_type": "code",
      "metadata": {
        "id": "AGuo5LiFDCHn"
      },
      "source": [
        "# get n tweets from Elon Musk, n=10 \n",
        "posts = api.user_timeline(screen_name='ElonMusk',count=10,lang=\"en\",tweet_mode=\"extended\")"
      ],
      "execution_count": 44,
      "outputs": []
    },
    {
      "cell_type": "code",
      "metadata": {
        "id": "gAP7lumVzt4w"
      },
      "source": [
        "df = pd.DataFrame([tweet.full_text for tweet in posts],columns=['Tweets'])\n",
        "#df.head()"
      ],
      "execution_count": 45,
      "outputs": []
    },
    {
      "cell_type": "code",
      "metadata": {
        "id": "sq3GHYMoC_RK"
      },
      "source": [
        "def print_tweets(num):\n",
        "  print(\"show the n recent tweets:\\n\")\n",
        "  i = 0\n",
        "  for tweet in posts[0:num]:\n",
        "    i+=1\n",
        "    print(str(i)+')'+tweet.full_text+'\\n')\n",
        "  return i"
      ],
      "execution_count": 46,
      "outputs": []
    },
    {
      "cell_type": "code",
      "metadata": {
        "id": "FMGphuSANBAD"
      },
      "source": [
        "def cleanTxt(text): #str\n",
        "  text = re.sub(r'@[A-Za-z0-9]+','',text)\n",
        "  text = re.sub(r'#','',text)\n",
        "  text = re.sub(r'RT[\\s]+','',text)\n",
        "  text = re.sub(r'https:\\/\\/S+','',text)\n",
        "  return text"
      ],
      "execution_count": 47,
      "outputs": []
    },
    {
      "cell_type": "code",
      "metadata": {
        "id": "GffQIxQ97pPj"
      },
      "source": [
        "def getSubjectivity(text):\n",
        "  try: \n",
        "    return TextBlob(text).sentiment.subjectivity\n",
        "  except:\n",
        "    return (\"please input text\")\n",
        "def getPolarity(text):\n",
        "  try:\n",
        "    return TextBlob(text).sentiment.polarity\n",
        "  except:\n",
        "    return (\"please input text\")"
      ],
      "execution_count": 48,
      "outputs": []
    },
    {
      "cell_type": "code",
      "metadata": {
        "id": "f_a2JQ_h-5Jn"
      },
      "source": [
        "def getAnalysis(score):\n",
        "  if score < 0:\n",
        "    return 'Negative'\n",
        "  elif score==0:\n",
        "    return 'Middle'\n",
        "  else:\n",
        "    return 'Positive'"
      ],
      "execution_count": 49,
      "outputs": []
    }
  ]
}