{
  "nbformat": 4,
  "nbformat_minor": 0,
  "metadata": {
    "colab": {
      "name": "Untitled4.ipynb",
      "provenance": [],
      "collapsed_sections": []
    },
    "kernelspec": {
      "name": "python3",
      "display_name": "Python 3"
    },
    "language_info": {
      "name": "python"
    }
  },
  "cells": [
    {
      "cell_type": "code",
      "execution_count": 1,
      "metadata": {
        "id": "-lZNYxbJJfIY"
      },
      "outputs": [],
      "source": [
        "# import\n",
        "import tweepy\n",
        "from textblob import TextBlob\n",
        "from wordcloud import WordCloud\n",
        "import pandas as pd\n",
        "import numpy as np\n",
        "import re\n",
        "import matplotlib.pyplot as plt"
      ]
    },
    {
      "cell_type": "code",
      "source": [
        "accessToken='1393886621729271815-MSUMYiX5E7dOqv688WtlRDL861LVEg'\n",
        "accessTokenSecret='kRPXGNrEecnKUTg1n0Xm4nxFQ22loyuoKkFdbjzSYdskM'\n",
        "consumerKey='JR6B8K1QWpYeMqMKYAiGkIF3l'\n",
        "consumerSecret='A83zp1kFCtrBTNmpwNnxXWRLRTsSshmRkRkl9MV29Bu7DYkBZm'\n",
        "auth = tweepy.OAuthHandler(consumerKey,consumerSecret)\n",
        "auth.set_access_token(accessToken,accessTokenSecret)\n",
        "api=tweepy.API(auth,wait_on_rate_limit=True)"
      ],
      "metadata": {
        "id": "pb6mnBVqJiGQ"
      },
      "execution_count": 2,
      "outputs": []
    },
    {
      "cell_type": "code",
      "source": [
        "# get n tweets from Elon Musk, n=10 \n",
        "posts = api.user_timeline(screen_name='ElonMusk',count=10,lang=\"en\",tweet_mode=\"extended\")\n"
      ],
      "metadata": {
        "id": "P9EWBNnsJmPO"
      },
      "execution_count": null,
      "outputs": []
    },
    {
      "cell_type": "code",
      "source": [
        "df = pd.DataFrame([tweet.full_text for tweet in posts],columns=['Tweets'])\n",
        "#df.head()"
      ],
      "metadata": {
        "id": "wC82ot1eJoKN"
      },
      "execution_count": 4,
      "outputs": []
    },
    {
      "cell_type": "code",
      "source": [
        "def print_tweets(num):\n",
        "  try:\n",
        "    print(\"show the n recent tweets:\\n\")\n",
        "    i = 0\n",
        "    for tweet in posts[0:num]:\n",
        "      i+=1\n",
        "      print(str(i)+')'+tweet.full_text+'\\n')\n",
        "    return i\n",
        "  except:\n",
        "    return (\"Wrong Input!\")\n"
      ],
      "metadata": {
        "id": "rP3hRHA1Jqa1"
      },
      "execution_count": null,
      "outputs": []
    },
    {
      "cell_type": "code",
      "source": [
        "def cleanTxt(text): #str\n",
        "  try:\n",
        "    text = re.sub(r'@[A-Za-z0-9]+','',text)\n",
        "    text = re.sub(r'#','',text)\n",
        "    text = re.sub(r'RT[\\s]+','',text)\n",
        "    text = re.sub(r'https:\\/\\/S+','',text)\n",
        "    return text\n",
        "  except:\n",
        "    return (\"Wrong Input!\")\n"
      ],
      "metadata": {
        "id": "otyw_9W8JsyV"
      },
      "execution_count": 53,
      "outputs": []
    },
    {
      "cell_type": "code",
      "source": [
        "def getSubjectivity(text):\n",
        "  try: \n",
        "    return TextBlob(text).sentiment.subjectivity\n",
        "  except:\n",
        "    return (\"please input text\")\n",
        "def getPolarity(text):\n",
        "  try:\n",
        "    return TextBlob(text).sentiment.polarity\n",
        "  except:\n",
        "    return (\"please input text\")"
      ],
      "metadata": {
        "id": "jFgNEtdRJuX9"
      },
      "execution_count": null,
      "outputs": []
    },
    {
      "cell_type": "code",
      "source": [
        "def getAnalysis(score):\n",
        "  try:\n",
        "    if score < 0:\n",
        "      return 'Negative'\n",
        "    elif score==0:\n",
        "      return 'Middle'\n",
        "    else:\n",
        "      return 'Positive'\n",
        "  except:\n",
        "    return('Wrong Input!')"
      ],
      "metadata": {
        "id": "audpfjAZJwCd"
      },
      "execution_count": 8,
      "outputs": []
    }
  ]
}